{
  "nbformat": 4,
  "nbformat_minor": 0,
  "metadata": {
    "colab": {
      "provenance": [],
      "include_colab_link": true
    },
    "kernelspec": {
      "name": "python3",
      "display_name": "Python 3"
    },
    "language_info": {
      "name": "python"
    }
  },
  "cells": [
    {
      "cell_type": "markdown",
      "metadata": {
        "id": "view-in-github",
        "colab_type": "text"
      },
      "source": [
        "<a href=\"https://colab.research.google.com/github/vvnu0/Databases/blob/main/CS4320_HW1.ipynb\" target=\"_parent\"><img src=\"https://colab.research.google.com/assets/colab-badge.svg\" alt=\"Open In Colab\"/></a>"
      ]
    },
    {
      "cell_type": "code",
      "execution_count": null,
      "metadata": {
        "id": "gegRFUVGhnDO"
      },
      "outputs": [],
      "source": [
        "import pandas as pd\n",
        "import sqlite3\n",
        "\n",
        "connection = sqlite3.connect('chocolate.db')\n",
        "cursor = connection.cursor()\n",
        "cursor.execute('''\n",
        "  create table if not exists bars(id int, manufacturer char varying,\n",
        "  company_location char varying, year_reviewed int,\n",
        "  bean_origin char varying, bar_name char varying,\n",
        "  cocoa_percent numeric, num_ingredients numeric, ingredients char varying,\n",
        "  review char varying, rating numeric)''')\n",
        "df = pd.read_csv('http://databaselecture.com/exercises/chocolate_bars.csv')\n",
        "df.to_sql('bars', connection, if_exists='replace', index=False)"
      ]
    },
    {
      "cell_type": "code",
      "source": [
        "result = cursor.execute('select * from bars limit 10')\n",
        "for row in result:\n",
        "  print(row)"
      ],
      "metadata": {
        "id": "loHAkpiopqQo"
      },
      "execution_count": null,
      "outputs": []
    }
  ]
}